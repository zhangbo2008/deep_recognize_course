{
 "cells": [
  {
   "cell_type": "markdown",
   "metadata": {},
   "source": [
    "首先我们安装好anaconda  https://mirrors.tuna.tsinghua.edu.cn/anaconda/archive/Anaconda3-5.0.0-Windows-x86_64.exe\n",
    "\n",
    "之后进行python第三方库包的安装"
   ]
  },
  {
   "cell_type": "code",
   "execution_count": 7,
   "metadata": {
    "scrolled": true
   },
   "outputs": [
    {
     "name": "stdout",
     "output_type": "stream",
     "text": [
      "Looking in indexes: http://pypi.douban.com/simple\n",
      "Requirement already satisfied: pip in e:\\anaconda3\\lib\\site-packages (21.1.3)\n"
     ]
    }
   ],
   "source": [
    "!python -m pip install --upgrade pip  "
   ]
  },
  {
   "cell_type": "code",
   "execution_count": 8,
   "metadata": {},
   "outputs": [
    {
     "name": "stdout",
     "output_type": "stream",
     "text": [
      "Looking in indexes: http://pypi.douban.com/simple\n",
      "Requirement already satisfied: python_speech_features in e:\\anaconda3\\lib\\site-packages (0.6)\n"
     ]
    }
   ],
   "source": [
    "!pip install python_speech_features"
   ]
  },
  {
   "cell_type": "code",
   "execution_count": null,
   "metadata": {
    "collapsed": true
   },
   "outputs": [],
   "source": [
    "!pip install --upgrade librosa"
   ]
  },
  {
   "cell_type": "code",
   "execution_count": 7,
   "metadata": {},
   "outputs": [
    {
     "name": "stdout",
     "output_type": "stream",
     "text": [
      "Looking in indexes: http://pypi.douban.com/simple\n",
      "Requirement already satisfied: scipy in c:\\users\\administrator\\appdata\\roaming\\python\\python36\\site-packages (1.1.0)\n",
      "Collecting scipy\n",
      "  Downloading http://pypi.doubanio.com/packages/f3/9f/80522344838ae24cac9e945240436269cbb92349f7f1f4c9dfc10cb6bad5/scipy-1.5.4-cp36-cp36m-win_amd64.whl (31.2 MB)\n",
      "Requirement already satisfied: numpy>=1.14.5 in e:\\anaconda3\\lib\\site-packages (from scipy) (1.19.5)\n",
      "Installing collected packages: scipy\n",
      "  Attempting uninstall: scipy\n",
      "    Found existing installation: scipy 1.1.0\n",
      "    Uninstalling scipy-1.1.0:\n",
      "      Successfully uninstalled scipy-1.1.0\n",
      "Successfully installed scipy-1.5.4\n"
     ]
    }
   ],
   "source": [
    "!pip install  --upgrade scipy --user"
   ]
  },
  {
   "cell_type": "code",
   "execution_count": null,
   "metadata": {
    "collapsed": true,
    "scrolled": false
   },
   "outputs": [],
   "source": [
    "!pip install  scikit-learn==0.16.1 --user"
   ]
  },
  {
   "cell_type": "code",
   "execution_count": null,
   "metadata": {
    "collapsed": true,
    "scrolled": false
   },
   "outputs": [],
   "source": [
    "!pip install  sklearn --user"
   ]
  },
  {
   "cell_type": "code",
   "execution_count": 8,
   "metadata": {
    "scrolled": true
   },
   "outputs": [
    {
     "name": "stdout",
     "output_type": "stream",
     "text": [
      "Looking in indexes: http://pypi.douban.com/simple\n",
      "Requirement already satisfied: numpy in e:\\anaconda3\\lib\\site-packages (1.19.5)\n"
     ]
    }
   ],
   "source": [
    "!pip install   numpy "
   ]
  },
  {
   "cell_type": "markdown",
   "metadata": {},
   "source": [
    "数据格式说明:\n",
    "数据集下载地址:http://www.openslr.org/12/\n",
    "\n",
    "存入地址:\n",
    "autio/LibriSpeechSamples/train-clean-100/\n",
    "\n",
    "第一级目录里面是朗读者的id:19 26 27 61 121 237 260 672 908 1089\n",
    "第二级目录是每一个读着对着什么文章朗读,文章的id\n",
    "第三级目录就是音频文件和对应的文本. 我们这个项目只用到*.flac文件"
   ]
  },
  {
   "cell_type": "code",
   "execution_count": 6,
   "metadata": {},
   "outputs": [
    {
     "name": "stdout",
     "output_type": "stream",
     "text": [
      "Overwriting 1.py\n"
     ]
    }
   ],
   "source": [
    "%%writefile 1.py\n",
    "# extract fbanck from flac and save to file 从flac文件中抽取非空白文件然后存成npz文件.\n",
    "# pre processd an audio in 0.09912s\n",
    "\n",
    "# jupyter 不支持多进程会卡死所以需要用文件调用, 所以用下面运行py文件的方法来运行.\n",
    "\n",
    "\n",
    "import os\n",
    "from glob import glob\n",
    "from python_speech_features import fbank, delta\n",
    "import librosa\n",
    "import numpy as np\n",
    "import pandas as pd\n",
    "import pickle\n",
    "from multiprocessing import Pool\n",
    "\n",
    "import silence_detector\n",
    "import constants as c\n",
    "from constants import SAMPLE_RATE\n",
    "from time import time\n",
    "import sys\n",
    "# np.set_printoptions(threshold=np.nan)\n",
    "np.set_printoptions(threshold=sys.maxsize)\n",
    "#pd.set_option('display.height', 1000)\n",
    "pd.set_option('display.max_rows', 500)\n",
    "pd.set_option('display.max_columns', 500)\n",
    "pd.set_option('display.width', 1000)\n",
    "pd.set_option('max_colwidth', 100)\n",
    "\n",
    "\n",
    "def find_files(directory, pattern='**/*.flac'):\n",
    "    \"\"\"Recursively finds all files matching the pattern.\"\"\"\n",
    "    return glob(os.path.join(directory, pattern), recursive=True)\n",
    "#去除静音片段.\n",
    "def VAD(audio):\n",
    "    chunk_size = int(SAMPLE_RATE*0.05) # 50ms\n",
    "    index = 0\n",
    "    sil_detector = silence_detector.SilenceDetector(15)\n",
    "    nonsil_audio=[]\n",
    "    while index + chunk_size < len(audio):\n",
    "        if not sil_detector.is_silence(audio[index: index+chunk_size]): # 不是静音片段就记录下来.\n",
    "            nonsil_audio.extend(audio[index: index + chunk_size])\n",
    "        index += chunk_size\n",
    "\n",
    "    return np.array(nonsil_audio)\n",
    "\n",
    "def read_audio(filename, sample_rate=SAMPLE_RATE):\n",
    "    audio, sr = librosa.load(filename, sr=sample_rate, mono=True)\n",
    "    audio = VAD(audio.flatten())\n",
    "    start_sec, end_sec = c.TRUNCATE_SOUND_SECONDS\n",
    "    start_frame = int(start_sec * SAMPLE_RATE)\n",
    "    end_frame = int(end_sec * SAMPLE_RATE)\n",
    "\n",
    "    if len(audio) < (end_frame - start_frame):\n",
    "        au = [0] * (end_frame - start_frame)\n",
    "        for i in range(len(audio)):\n",
    "            au[i] = audio[i]\n",
    "        audio = np.array(au)\n",
    "    return audio\n",
    "#正则化.\n",
    "def normalize_frames(m,epsilon=1e-12):\n",
    "    return [(v - np.mean(v)) / max(np.std(v),epsilon) for v in m]\n",
    "#使用filter_banks特征, 转化为矩阵\n",
    "def extract_features(signal=np.random.uniform(size=48000), target_sample_rate=SAMPLE_RATE):\n",
    "    filter_banks, energies = fbank(signal, samplerate=target_sample_rate, nfilt=64, winlen=0.025)   #filter_bank (num_frames , 64),energies (num_frames ,)\n",
    "    #delta_1 = delta(filter_banks, N=1)\n",
    "    #delta_2 = delta(delta_1, N=1)\n",
    "\n",
    "    filter_banks = normalize_frames(filter_banks)\n",
    "    #delta_1 = normalize_frames(delta_1)\n",
    "    #delta_2 = normalize_frames(delta_2)\n",
    "\n",
    "    #frames_features = np.hstack([filter_banks, delta_1, delta_2])    # (num_frames , 192)\n",
    "    frames_features = filter_banks     # (num_frames , 64)\n",
    "    num_frames = len(frames_features)\n",
    "    return np.reshape(np.array(frames_features),(num_frames, 64, 1))   #(num_frames,64, 1)\n",
    "# 目录信息写入pandas\n",
    "def data_catalog(dataset_dir=c.DATASET_DIR, pattern='*.npy'):\n",
    "    libri = pd.DataFrame()\n",
    "    libri['filename'] = find_files(dataset_dir, pattern=pattern)\n",
    "    libri['filename'] = libri['filename'].apply(lambda x: x.replace('\\\\', '/'))  # normalize windows paths\n",
    "    libri['speaker_id'] = libri['filename'].apply(lambda x: x.split('/')[-1].split('-')[0])\n",
    "    num_speakers = len(libri['speaker_id'].unique())\n",
    "    print('Found {} files with {} different speakers.'.format(str(len(libri)).zfill(7), str(num_speakers).zfill(5)))\n",
    "    # print(libri.head(10))\n",
    "    return libri\n",
    "\n",
    "def prep(libri,out_dir=c.DATASET_DIR,name='0'):\n",
    "    start_time = time()\n",
    "    i=0\n",
    "    for i in range(len(libri)):\n",
    "        orig_time = time()\n",
    "        filename = libri[i:i+1]['filename'].values[0]\n",
    "        target_filename = out_dir + filename.split(\"/\")[-1].split('.')[0] + '.npy'\n",
    "        if os.path.exists(target_filename):# 已经处理过了,就continue\n",
    "            if i % 10 == 0: print(\"task:{0} No.:{1} Exist File:{2}\".format(name, i, filename))\n",
    "            continue\n",
    "        raw_audio = read_audio(filename)\n",
    "        feature = extract_features(raw_audio, target_sample_rate=SAMPLE_RATE)\n",
    "        if feature.ndim != 3 or feature.shape[0] < c.NUM_FRAMES or feature.shape[1] !=64 or feature.shape[2] != 1:\n",
    "            print('there is an error in file:',filename)\n",
    "            continue\n",
    "        np.save(target_filename, feature)\n",
    "        if i % 100 == 0:\n",
    "            print(\"task:{0} cost time per audio: {1:.3f}s No.:{2} File name:{3}\".format(name, time() - orig_time, i, filename))\n",
    "    print(\"task %s runs %d seconds. %d files\" %(name, time()-start_time,i))\n",
    "\n",
    "#使用多进程跑.\n",
    "def preprocess_and_save(wav_dir=c.WAV_DIR,out_dir=c.DATASET_DIR):\n",
    "\n",
    "    orig_time = time()\n",
    "    libri = data_catalog(wav_dir, pattern='**/*.flac')  #'/Users/walle/PycharmProjects/Speech/coding/deep-speaker-master/audio/LibriSpeechSamples/train-clean-100/19'\n",
    "\n",
    "    print(\"extract fbank from audio and save as npy, using multiprocessing pool........ \")\n",
    "    p = Pool(5)\n",
    "    patch = int(len(libri)/5)\n",
    "    for i in range(5):\n",
    "        if i < 4:\n",
    "            slibri=libri[i*patch: (i+1)*patch] #切分数据集.给每一个进程.\n",
    "        else:\n",
    "            slibri = libri[i*patch:]\n",
    "        print(\"task %s slibri length: %d\" %(i, len(slibri)))\n",
    "        p.apply_async(prep, args=(slibri,out_dir,i)) #调用上面prep函数\n",
    "    print('Waiting for all subprocesses done...')\n",
    "    p.close() # 关闭进程池（pool），使其不再接受新的任务\n",
    "    p.join()   # 主进程阻塞等待子进程的退出  这2行是多进程的固定写法.\n",
    "\n",
    "    print(\"Extract audio features and save it as npy file, cost {0} seconds\".format(time()-orig_time))\n",
    "    print(\"over\")\n",
    "\n",
    "\n",
    "def Fortest():#这是一个信息抽取函数的测试.可以自己调用来测试.\n",
    "    libri = data_catalog()\n",
    "    filename = 'audio/LibriSpeechSamples/train-clean-100/19/227/19-227-0036.wav'\n",
    "    raw_audio = read_audio(filename)\n",
    "    print(filename)\n",
    "    feature = extract_features(raw_audio, target_sample_rate=SAMPLE_RATE)\n",
    "    print(filename)\n",
    "if 0:#这个部分打开,可以测试一下读取flac和wav文件的结果是一样的.\n",
    "    a=librosa.load('19-198-0000.flac', sr=SAMPLE_RATE, mono=True)\n",
    "    b=librosa.load('19-198-0000.wav', sr=SAMPLE_RATE, mono=True)\n",
    "    print(1)\n",
    "\n",
    "if __name__ == '__main__':\n",
    "    #test()\n",
    "    preprocess_and_save(\"audio/LibriSpeechSamples/train-clean-100\")"
   ]
  },
  {
   "cell_type": "code",
   "execution_count": 7,
   "metadata": {},
   "outputs": [
    {
     "name": "stdout",
     "output_type": "stream",
     "text": [
      "task:1 No.:0 Exist File:audio/LibriSpeechSamples/train-clean-100/19/227/19-227-0015.flac\n",
      "task:1 No.:10 Exist File:audio/LibriSpeechSamples/train-clean-100/19/227/19-227-0025.flac\n",
      "task:1 No.:20 Exist File:audio/LibriSpeechSamples/train-clean-100/19/227/19-227-0035.flac\n",
      "task:1 No.:30 Exist File:audio/LibriSpeechSamples/train-clean-100/19/227/19-227-0045.flac\n",
      "task:1 No.:40 Exist File:audio/LibriSpeechSamples/train-clean-100/19/227/19-227-0055.flac\n",
      "task:1 No.:50 Exist File:audio/LibriSpeechSamples/train-clean-100/19/227/19-227-0065.flac\n",
      "task:1 No.:60 Exist File:audio/LibriSpeechSamples/train-clean-100/237/126133/237-126133-0002.flac\n",
      "task:1 No.:70 Exist File:audio/LibriSpeechSamples/train-clean-100/237/126133/237-126133-0012.flac\n",
      "task:1 No.:80 Exist File:audio/LibriSpeechSamples/train-clean-100/237/126133/237-126133-0022.flac\n",
      "task:1 No.:90 Exist File:audio/LibriSpeechSamples/train-clean-100/237/134493/237-134493-0006.flac\n",
      "task:1 No.:100 Exist File:audio/LibriSpeechSamples/train-clean-100/237/134493/237-134493-0016.flac\n",
      "task:1 No.:110 Exist File:audio/LibriSpeechSamples/train-clean-100/237/134500/237-134500-0007.flac\n",
      "task:1 No.:120 Exist File:audio/LibriSpeechSamples/train-clean-100/237/134500/237-134500-0017.flac\n",
      "task:1 No.:130 Exist File:audio/LibriSpeechSamples/train-clean-100/237/134500/237-134500-0027.flac\n",
      "task:1 No.:140 Exist File:audio/LibriSpeechSamples/train-clean-100/237/134500/237-134500-0037.flac\n",
      "task:1 No.:150 Exist File:audio/LibriSpeechSamples/train-clean-100/26/495/26-495-0004.flac\n",
      "task:1 No.:160 Exist File:audio/LibriSpeechSamples/train-clean-100/26/495/26-495-0014.flac\n",
      "task:1 No.:170 Exist File:audio/LibriSpeechSamples/train-clean-100/26/495/26-495-0024.flac\n",
      "task 1 runs 0 seconds. 178 files\n",
      "task:3 No.:0 Exist File:audio/LibriSpeechSamples/train-clean-100/27/123349/27-123349-0012.flac\n",
      "task:3 No.:10 Exist File:audio/LibriSpeechSamples/train-clean-100/27/123349/27-123349-0022.flac\n",
      "task:3 No.:20 Exist File:audio/LibriSpeechSamples/train-clean-100/27/123349/27-123349-0032.flac\n",
      "task:3 No.:30 Exist File:audio/LibriSpeechSamples/train-clean-100/27/123349/27-123349-0042.flac\n",
      "task:3 No.:40 Exist File:audio/LibriSpeechSamples/train-clean-100/27/123349/27-123349-0052.flac\n",
      "task:3 No.:50 Exist File:audio/LibriSpeechSamples/train-clean-100/27/124992/27-124992-0003.flac\n",
      "task:3 No.:60 Exist File:audio/LibriSpeechSamples/train-clean-100/27/124992/27-124992-0013.flac\n",
      "task:3 No.:70 Exist File:audio/LibriSpeechSamples/train-clean-100/27/124992/27-124992-0023.flac\n",
      "task:3 No.:80 Exist File:audio/LibriSpeechSamples/train-clean-100/27/124992/27-124992-0033.flac\n",
      "task:3 No.:90 Exist File:audio/LibriSpeechSamples/train-clean-100/27/124992/27-124992-0043.flac\n",
      "task:3 No.:100 Exist File:audio/LibriSpeechSamples/train-clean-100/27/124992/27-124992-0053.flac\n",
      "task:3 No.:110 Exist File:audio/LibriSpeechSamples/train-clean-100/27/124992/27-124992-0063.flac\n",
      "task:3 No.:120 Exist File:audio/LibriSpeechSamples/train-clean-100/27/124992/27-124992-0073.flac\n",
      "task:3 No.:130 Exist File:audio/LibriSpeechSamples/train-clean-100/61/70968/61-70968-0004.flac\n",
      "task:3 No.:140 Exist File:audio/LibriSpeechSamples/train-clean-100/61/70968/61-70968-0014.flac\n",
      "task:3 No.:150 Exist File:audio/LibriSpeechSamples/train-clean-100/61/70968/61-70968-0024.flac\n",
      "task:3 No.:160 Exist File:audio/LibriSpeechSamples/train-clean-100/61/70968/61-70968-0034.flac\n",
      "task:3 No.:170 Exist File:audio/LibriSpeechSamples/train-clean-100/61/70968/61-70968-0044.flac\n",
      "task 3 runs 0 seconds. 178 files\n",
      "task:0 No.:0 Exist File:audio/LibriSpeechSamples/train-clean-100/1089/134686/1089-134686-0000.flac\n",
      "task:0 No.:10 Exist File:audio/LibriSpeechSamples/train-clean-100/1089/134686/1089-134686-0010.flac\n",
      "task:0 No.:20 Exist File:audio/LibriSpeechSamples/train-clean-100/1089/134686/1089-134686-0020.flac\n",
      "task:0 No.:30 Exist File:audio/LibriSpeechSamples/train-clean-100/1089/134686/1089-134686-0030.flac\n",
      "task:0 No.:40 Exist File:audio/LibriSpeechSamples/train-clean-100/1089/134691/1089-134691-0002.flac\n",
      "task:0 No.:50 Exist File:audio/LibriSpeechSamples/train-clean-100/1089/134691/1089-134691-0012.flac\n",
      "task:0 No.:60 Exist File:audio/LibriSpeechSamples/train-clean-100/1089/134691/1089-134691-0022.flac\n",
      "task:0 No.:70 Exist File:audio/LibriSpeechSamples/train-clean-100/121/121726/121-121726-0006.flac\n",
      "task:0 No.:80 Exist File:audio/LibriSpeechSamples/train-clean-100/121/123852/121-123852-0001.flac\n",
      "task:0 No.:90 Exist File:audio/LibriSpeechSamples/train-clean-100/121/127105/121-127105-0001.flac\n",
      "task:0 No.:100 Exist File:audio/LibriSpeechSamples/train-clean-100/121/127105/121-127105-0011.flac\n",
      "task:0 No.:110 Exist File:audio/LibriSpeechSamples/train-clean-100/121/127105/121-127105-0021.flac\n",
      "task:0 No.:120 Exist File:audio/LibriSpeechSamples/train-clean-100/121/127105/121-127105-0031.flac\n",
      "task:0 No.:130 Exist File:audio/LibriSpeechSamples/train-clean-100/19/198/19-198-0004.flac\n",
      "task:0 No.:140 Exist File:audio/LibriSpeechSamples/train-clean-100/19/198/19-198-0014.flac\n",
      "task:0 No.:150 Exist File:audio/LibriSpeechSamples/train-clean-100/19/198/19-198-0024.flac\n",
      "task:0 No.:160 Exist File:audio/LibriSpeechSamples/train-clean-100/19/198/19-198-0034.flac\n",
      "task:0 No.:170 Exist File:audio/LibriSpeechSamples/train-clean-100/19/227/19-227-0006.flac\n",
      "task 0 runs 0 seconds. 178 files\n",
      "task:2 No.:0 Exist File:audio/LibriSpeechSamples/train-clean-100/26/495/26-495-0033.flac\n",
      "task:2 No.:10 Exist File:audio/LibriSpeechSamples/train-clean-100/26/495/26-495-0043.flac\n",
      "task:2 No.:20 Exist File:audio/LibriSpeechSamples/train-clean-100/26/495/26-495-0053.flac\n",
      "task:2 No.:30 Exist File:audio/LibriSpeechSamples/train-clean-100/26/495/26-495-0063.flac\n",
      "task:2 No.:40 Exist File:audio/LibriSpeechSamples/train-clean-100/26/495/26-495-0073.flac\n",
      "task:2 No.:50 Exist File:audio/LibriSpeechSamples/train-clean-100/26/495/26-495-0083.flac\n",
      "task:2 No.:60 Exist File:audio/LibriSpeechSamples/train-clean-100/26/496/26-496-0002.flac\n",
      "task:2 No.:70 Exist File:audio/LibriSpeechSamples/train-clean-100/26/496/26-496-0012.flac\n",
      "task:2 No.:80 Exist File:audio/LibriSpeechSamples/train-clean-100/26/496/26-496-0022.flac\n",
      "task:2 No.:90 Exist File:audio/LibriSpeechSamples/train-clean-100/260/123286/260-123286-0005.flac\n",
      "task:2 No.:100 Exist File:audio/LibriSpeechSamples/train-clean-100/260/123286/260-123286-0015.flac\n",
      "task:2 No.:110 Exist File:audio/LibriSpeechSamples/train-clean-100/260/123286/260-123286-0025.flac\n",
      "task:2 No.:120 Exist File:audio/LibriSpeechSamples/train-clean-100/260/123288/260-123288-0003.flac\n",
      "task:2 No.:130 Exist File:audio/LibriSpeechSamples/train-clean-100/260/123288/260-123288-0013.flac\n",
      "task:2 No.:140 Exist File:audio/LibriSpeechSamples/train-clean-100/260/123288/260-123288-0023.flac\n",
      "task:2 No.:150 Exist File:audio/LibriSpeechSamples/train-clean-100/260/123440/260-123440-0004.flac\n",
      "task:2 No.:160 Exist File:audio/LibriSpeechSamples/train-clean-100/260/123440/260-123440-0014.flac\n",
      "task:2 No.:170 Exist File:audio/LibriSpeechSamples/train-clean-100/27/123349/27-123349-0003.flac\n",
      "task 2 runs 0 seconds. 178 files\n",
      "task:4 No.:0 Exist File:audio/LibriSpeechSamples/train-clean-100/61/70968/61-70968-0053.flac\n",
      "task:4 No.:10 Exist File:audio/LibriSpeechSamples/train-clean-100/61/70970/61-70970-0000.flac\n",
      "task:4 No.:20 Exist File:audio/LibriSpeechSamples/train-clean-100/61/70970/61-70970-0010.flac\n",
      "task:4 No.:30 Exist File:audio/LibriSpeechSamples/train-clean-100/61/70970/61-70970-0020.flac\n",
      "task:4 No.:40 Exist File:audio/LibriSpeechSamples/train-clean-100/61/70970/61-70970-0030.flac\n",
      "task:4 No.:50 Exist File:audio/LibriSpeechSamples/train-clean-100/61/70970/61-70970-0040.flac\n",
      "task:4 No.:60 Exist File:audio/LibriSpeechSamples/train-clean-100/672/122797/672-122797-0009.flac\n",
      "task:4 No.:70 Exist File:audio/LibriSpeechSamples/train-clean-100/672/122797/672-122797-0019.flac\n",
      "task:4 No.:80 Exist File:audio/LibriSpeechSamples/train-clean-100/672/122797/672-122797-0029.flac\n",
      "task:4 No.:90 Exist File:audio/LibriSpeechSamples/train-clean-100/672/122797/672-122797-0039.flac\n",
      "task:4 No.:100 Exist File:audio/LibriSpeechSamples/train-clean-100/672/122797/672-122797-0049.flac\n",
      "task:4 No.:110 Exist File:audio/LibriSpeechSamples/train-clean-100/672/122797/672-122797-0059.flac\n",
      "task:4 No.:120 Exist File:audio/LibriSpeechSamples/train-clean-100/672/122797/672-122797-0069.flac\n",
      "task:4 No.:130 Exist File:audio/LibriSpeechSamples/train-clean-100/908/157963/908-157963-0004.flac\n",
      "task:4 No.:140 Exist File:audio/LibriSpeechSamples/train-clean-100/908/157963/908-157963-0014.flac\n",
      "task:4 No.:150 Exist File:audio/LibriSpeechSamples/train-clean-100/908/157963/908-157963-0024.flac\n",
      "task:4 No.:160 Exist File:audio/LibriSpeechSamples/train-clean-100/908/31957/908-31957-0003.flac\n",
      "task:4 No.:170 Exist File:audio/LibriSpeechSamples/train-clean-100/908/31957/908-31957-0013.flac\n",
      "task:4 No.:180 Exist File:audio/LibriSpeechSamples/train-clean-100/908/31957/908-31957-0023.flac\n",
      "task 4 runs 0 seconds. 182 files\n",
      "Found 0000899 files with 00010 different speakers.\n",
      "extract fbank from audio and save as npy, using multiprocessing pool........ \n",
      "task 0 slibri length: 179\n",
      "task 1 slibri length: 179\n",
      "task 2 slibri length: 179\n",
      "task 3 slibri length: 179\n",
      "task 4 slibri length: 183\n",
      "Waiting for all subprocesses done...\n",
      "Extract audio features and save it as npy file, cost 4.135998725891113 seconds\n",
      "over\n"
     ]
    }
   ],
   "source": [
    "! python 1.py"
   ]
  },
  {
   "cell_type": "code",
   "execution_count": null,
   "metadata": {
    "collapsed": true
   },
   "outputs": [],
   "source": []
  }
 ],
 "metadata": {
  "kernelspec": {
   "display_name": "Python 3",
   "language": "python",
   "name": "python3"
  },
  "language_info": {
   "codemirror_mode": {
    "name": "ipython",
    "version": 3
   },
   "file_extension": ".py",
   "mimetype": "text/x-python",
   "name": "python",
   "nbconvert_exporter": "python",
   "pygments_lexer": "ipython3",
   "version": "3.6.2"
  }
 },
 "nbformat": 4,
 "nbformat_minor": 2
}

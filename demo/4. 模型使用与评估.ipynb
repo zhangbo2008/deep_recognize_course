{
 "cells": [
  {
   "cell_type": "markdown",
   "metadata": {},
   "source": [
    "### 四、模型使用与评估\n",
    "本部分代码在```save_and_eval.ipynb```和```sim_of_sen.py```"
   ]
  },
  {
   "cell_type": "markdown",
   "metadata": {},
   "source": [
    "#### **模型使用**"
   ]
  },
  {
   "cell_type": "markdown",
   "metadata": {},
   "source": [
    "模型的使用通过文件```sim_of_sen.py```中的类：```SimOfSen```"
   ]
  },
  {
   "cell_type": "markdown",
   "metadata": {},
   "source": [
    "类名：```SimOfSen```  \n",
    "类方法：  \n",
    "``` \n",
    "self.__init__():\n",
    "  功能：根据入参进行模型加载及相关初始化\n",
    "  参数：model_path：pb模型的位置；\n",
    "       vocab_path：BERT词典的位置\n",
    "       max_seq_length：输入数据的最大长度\n",
    "\n",
    "self._cos_sim()\n",
    "  功能：内部函数，计算两个向量的余弦相似度\n",
    "  参数：vector_a, vector_b：两个可计算的向量\n",
    "  返回：两个入参向量的余弦相似度\n",
    "  \n",
    "self.get_sim():  \n",
    "  功能：对外使用的类方法，返回两个句子的相似度\n",
    "  参数：sen, sen2：两个文本数据\n",
    "  返回：入参两个文本的语义相似度\n",
    "  \n",
    "  函数内部操作：1. 将文本转换为BERT格式的输入  \n",
    "               2. 将数据喂进__init__初始化的模型中  \n",
    "               3. 得到两个句子的句向量输出  \n",
    "               4. 计算两个句子句向量余弦相似度\n",
    "```"
   ]
  },
  {
   "cell_type": "markdown",
   "metadata": {},
   "source": [
    "模型使用示例"
   ]
  },
  {
   "cell_type": "code",
   "execution_count": 21,
   "metadata": {},
   "outputs": [
    {
     "name": "stdout",
     "output_type": "stream",
     "text": [
      "WARNING:tensorflow:From /data/yxt_work/chatbot/sim_of_sen.py:23: The name tf.reset_default_graph is deprecated. Please use tf.compat.v1.reset_default_graph instead.\n",
      "\n",
      "WARNING:tensorflow:From /data/yxt_work/chatbot/sim_of_sen.py:24: The name tf.Session is deprecated. Please use tf.compat.v1.Session instead.\n",
      "\n",
      "WARNING:tensorflow:From /data/yxt_work/chatbot/sim_of_sen.py:25: FastGFile.__init__ (from tensorflow.python.platform.gfile) is deprecated and will be removed in a future version.\n",
      "Instructions for updating:\n",
      "Use tf.gfile.GFile.\n"
     ]
    }
   ],
   "source": [
    "from config import Config as cfg\n",
    "from sim_of_sen import SimOfSen\n",
    "\n",
    "model_name = cfg.model_name\n",
    "sim_exe = SimOfSen(model_path='./release/' + model_name + '.pb', vocab_path='./model', max_seq_length=35)"
   ]
  },
  {
   "cell_type": "code",
   "execution_count": null,
   "metadata": {
    "collapsed": true
   },
   "outputs": [],
   "source": [
    "print('我要订票', '给我订票', sim_exe.get_sim('我要订票', '给我订票'))\n",
    "print('我要订票', '我要查天气', sim_exe.get_sim('我要订票', '我要查天气'))"
   ]
  },
  {
   "cell_type": "markdown",
   "metadata": {},
   "source": [
    "#### **模型评估**\n",
    "代码见```save_and_eval.ipynb```"
   ]
  },
  {
   "cell_type": "markdown",
   "metadata": {},
   "source": [
    "1. 使用上述类的```get_sim()```方法，遍历测试集的数据，  \n",
    "2. 计算每个句子对的语义相似度，若相似度>0.8则视为模型判断正确，否则为错误  \n",
    "3. 正确数 / 测试集总数 = 正确率"
   ]
  },
  {
   "cell_type": "code",
   "execution_count": null,
   "metadata": {
    "collapsed": true
   },
   "outputs": [],
   "source": [
    "from tqdm import tqdm\n",
    "with open('./raw_data/' + model_name + '_test.tsv', encoding='utf-8') as f:\n",
    "    all_lines = f.readlines()\n",
    "    count = 0\n",
    "    for line in tqdm(all_lines) :\n",
    "        sen1, sen2, _ = line.split('\\t')\n",
    "        if sim_exe.get_sim(sen1, sen2) > 0.8:\n",
    "            count += 1\n",
    "    print(count / len(all_lines))"
   ]
  },
  {
   "cell_type": "code",
   "execution_count": null,
   "metadata": {
    "collapsed": true
   },
   "outputs": [],
   "source": []
  }
 ],
 "metadata": {
  "kernelspec": {
   "display_name": "Python 3",
   "language": "python",
   "name": "python3"
  },
  "language_info": {
   "codemirror_mode": {
    "name": "ipython",
    "version": 3
   },
   "file_extension": ".py",
   "mimetype": "text/x-python",
   "name": "python",
   "nbconvert_exporter": "python",
   "pygments_lexer": "ipython3",
   "version": "3.6.2"
  }
 },
 "nbformat": 4,
 "nbformat_minor": 4
}

{
 "cells": [
  {
   "cell_type": "markdown",
   "metadata": {},
   "source": [
    "## 一、数据处理讲解  \n",
    "本部分代码在 ```preprocess.py```\n"
   ]
  },
  {
   "cell_type": "markdown",
   "metadata": {},
   "source": [
    "### 1、数据结构"
   ]
  },
  {
   "cell_type": "markdown",
   "metadata": {},
   "source": [
    "（1）原始数据：  \n",
    "thchs30数据由wav文件和trn文件两大类组成，其中wav文件为实际语音数据，trn文件为标注数据。  \n",
    "数据样例：  \n",
    "\"好容易 盼 来一 位 望望 这一片 荒芜 又 扭 身 而去\"  \n",
    "\"hao3 rong2 yi4 pan4 lai2 yi1 wei4 wang4 wang5 zhe4 yi2 pian4 huang1 wu2 you4 niu3 shen1 er2 qu4\"  \n",
    "\"h ao3 r ong2 ii i4 p an4 l ai2 ii i1 uu ui4 uu uang4 uu uang5 zh e4 ii i2 p ian4 h uang1 uu u2 ii iu4 n iu3 sh en1 ee er2 q v4\"  \n",
    "可见第一行为文本标注，第二行为音节标注，第三行为音素标注。  \n",
    "\n",
    "（2）处理后的数据：  \n",
    "处理后的数据按照说话人保存为npz文件，例如，第2号说话人的数据保存为data_2.npz。  \n",
    "每一条数据包含：语音特征、文本标注、音节标注、音素标注和说话人id。"
   ]
  },
  {
   "cell_type": "markdown",
   "metadata": {},
   "source": [
    "#### 数据结构示例"
   ]
  },
  {
   "cell_type": "code",
   "execution_count": 5,
   "metadata": {},
   "outputs": [
    {
     "name": "stdout",
     "output_type": "stream",
     "text": [
      "好容易 盼 来一 位 望望 这一片 荒芜 又 扭 身 而去\n",
      "hao3 rong2 yi4 pan4 lai2 yi1 wei4 wang4 wang5 zhe4 yi2 pian4 huang1 wu2 you4 niu3 shen1 er2 qu4\n",
      "h ao3 r ong2 ii i4 p an4 l ai2 ii i1 uu ui4 uu uang4 uu uang5 zh e4 ii i2 p ian4 h uang1 uu u2 ii iu4 n iu3 sh en1 ee er2 q v4\n",
      "\n",
      "(1600, 200, 1)\n",
      "刘寿春崛出肮脏的尖须忘记把吞烟的手收下来用呆钝的眼睛望着他\n",
      "[578, 915, 159, 466, 142, 12, 1184, 208, 432, 1100, 1045, 426, 21, 1022, 1121, 208, 914, 912, 1071, 1313, 1154, 193, 247, 208, 1123, 1300, 1045, 1220, 961]\n",
      "[196, 147, 203, 103, 89, 125, 164, 186, 89, 78, 17, 208, 17, 140, 88, 164, 48, 206, 175, 205, 118, 164, 46, 27, 4, 204, 125, 207, 48, 140, 88, 203, 102, 203, 100, 206, 144, 196, 11, 207, 173, 140, 7, 140, 128, 140, 88, 207, 50, 164, 72, 205, 118, 209, 88, 204, 2]\n",
      "2\n"
     ]
    }
   ],
   "source": [
    "import numpy as np\n",
    "\n",
    "file_in = './data_raw/data_thchs30/D11_892.wav.trn'\n",
    "with open(file_in, 'r', encoding='utf8')as f:\n",
    "    file_contents = f.read()\n",
    "    print(file_contents)\n",
    "\n",
    "npz_file = './data/data_2.npz'\n",
    "npz_data = np.load(npz_file, allow_pickle=True)\n",
    "print(npz_data['X'][0].shape)\n",
    "print(npz_data['sen'][0])\n",
    "print(npz_data['syllable'][0])\n",
    "print(npz_data['phone'][0])\n",
    "print(npz_data['speaker'][0])"
   ]
  },
  {
   "cell_type": "markdown",
   "metadata": {},
   "source": [
    "### 2、读取及处理数据\n",
    "读取及处理数据的逻辑如下：  \n",
    "（1）遍历所有语料库  \n",
    "（2）处理thchs30语料库  \n",
    "（3）针对wav文件获取语音特征（统一转换为（1600，200，1）的数组）  \n",
    "（4）针对trn文件获取标注数据  \n",
    "（5）将数据添加至列表供后续存储"
   ]
  },
  {
   "cell_type": "markdown",
   "metadata": {},
   "source": [
    "#### 读取数据函数示例"
   ]
  },
  {
   "cell_type": "code",
   "execution_count": 2,
   "metadata": {},
   "outputs": [
    {
     "name": "stdout",
     "output_type": "stream",
     "text": [
      "(1600, 200, 1)\n"
     ]
    }
   ],
   "source": [
    "from util.utils import *\n",
    "file_in = './data_raw/data_thchs30/D11_892.wav'\n",
    "x_data = get_feature(file_in)\n",
    "x_data = x_data.reshape(x_data.shape[0], x_data.shape[1], 1)\n",
    "print(x_data.shape)"
   ]
  },
  {
   "cell_type": "markdown",
   "metadata": {},
   "source": [
    "### 3、存储数据\n",
    "将读取的数据列表统一存储至npz文件中。\n",
    "函数：```save_npz()```  \n",
    "  \n",
    "参数：```X_list:语音特征列表 ```  \n",
    "&emsp;&emsp;&emsp;```sen_list:文本标注列表 ```  \n",
    "&emsp;&emsp;&emsp;```syllable_list:音节标注列表 ```  \n",
    "&emsp;&emsp;&emsp;```phone_list:音素标注列表 ```  \n",
    "&emsp;&emsp;&emsp;```speaker_list:说话人id列表 ```  \n",
    "&emsp;&emsp;&emsp;```speaker:要保存的说话人id ```  \n",
    "  \n",
    "返回：```无```  "
   ]
  },
  {
   "cell_type": "markdown",
   "metadata": {},
   "source": [
    "#### 存储数据函数示例"
   ]
  },
  {
   "cell_type": "code",
   "execution_count": 2,
   "metadata": {},
   "outputs": [
    {
     "name": "stdout",
     "output_type": "stream",
     "text": [
      "Saving speaker data: test\n"
     ]
    }
   ],
   "source": [
    "from util.utils import *\n",
    "file_in = './data_raw/data_thchs30/D11_892.wav'\n",
    "x_data = get_feature(file_in)\n",
    "x_data = x_data.reshape(x_data.shape[0], x_data.shape[1], 1)\n",
    "X_list = [x_data]\n",
    "sen_list = ['测试呀']\n",
    "syllable_list = [['578, 915, 159, 466, 142, 12, 961']]\n",
    "phone_list = [[196, 147, 203, 103, 89, 125, 164, 186, 89, 78, 17,2]]\n",
    "speaker_list = ['test']\n",
    "speaker = 'test'\n",
    "print(\"Saving speaker data:\", speaker)\n",
    "save_npz(X_list, sen_list, syllable_list, phone_list, speaker_list, speaker)"
   ]
  },
  {
   "cell_type": "markdown",
   "metadata": {},
   "source": [
    "## 二、数据处理执行  "
   ]
  },
  {
   "cell_type": "code",
   "execution_count": null,
   "metadata": {
    "collapsed": true
   },
   "outputs": [],
   "source": [
    "import numpy as np\n",
    "import re, os, codecs, sys\n",
    "from config import Config as cfg\n",
    "from util.utils import *\n",
    "\n",
    "\n",
    "#开始数据预处理\n",
    "print(\"Begin to preprocess data!\")\n",
    "syllable_txt_list = get_syllable_txt_list(os.path.join(os.getcwd(), 'misc', 'syllable2char_cn.txt'))\n",
    "syllable2phone_dict, phone2nbr_dict, nbr2phone_dict = get_phone_dict(os.path.join(os.getcwd(), 'misc', 'syllable2phone_cn.txt'))\n",
    "print(\"syllable and phone length: \",len(syllable_txt_list), len(phone2nbr_dict))\n",
    "\n",
    "\n",
    "#准备变量列表\n",
    "names = locals()\n",
    "for speaker in cfg.speaker_select_thchs30:\n",
    "    names['X_list_%s' % speaker], names['syllable_list_%s' % speaker], names['phone_list_%s' % speaker], names['sen_list_%s' % speaker], names['speaker_list_%s' % speaker] = [], [], [], [], []\n"
   ]
  },
  {
   "cell_type": "code",
   "execution_count": null,
   "metadata": {
    "collapsed": true
   },
   "outputs": [],
   "source": [
    "#开始处理每个语料库\n",
    "print(\"Begin to load corpus!\")\n",
    "for corpus in cfg.corpus:\n",
    "    print(\"Processing corpus:\", corpus)\n",
    "    directory = os.path.join(cfg.rawdata_dir, corpus)\n",
    "    for dirpath, _, filenames in os.walk(directory):\n",
    "        for f in filenames:\n",
    "            filename = os.path.join(dirpath, f)\n",
    "            # print(filename, corpus)\n",
    "            #判断文件名以wav结尾\n",
    "            if ('wav' in filename[-3:] or 'WAV' in filename[-3:]):\n",
    "                #处理thchs30语料库\n",
    "                if(corpus == 'data_thchs30'):\n",
    "                    #thchs30的trn格式：\n",
    "                    #企业 依靠 技术 挖潜\n",
    "                    #qi3 ye4 yi1 kao4 ji4 shu4 wa1 qian2\n",
    "                    #q i3 ii ie4 ii i1 k ao4 j i4 sh u4 uu ua1 q ian2\n",
    "                    file_label = filename + '.trn'\n",
    "                    if(not os.path.exists(file_label)):continue\n",
    "\n",
    "                    #特定录音人的选取\n",
    "                    speaker = get_speaker(filename)\n",
    "                    if(speaker not in cfg.speaker_select_thchs30):continue\n",
    "                    \n",
    "                    #获取语音特征\n",
    "                    x_data = get_feature(filename)\n",
    "                    x_data = x_data.reshape(x_data.shape[0], x_data.shape[1], 1)\n",
    "                    # print(x_data.shape)\n",
    "\n",
    "                    #获取标注数据\n",
    "                    with open(file_label, encoding='utf-8') as f:\n",
    "                        lines = f.readlines()\n",
    "                        sen = lines[0].strip('\\r\\n').strip('\\n').replace(\" \",\"\")\n",
    "                        syllable_l = lines[1].strip('\\r\\n').strip('\\n').split(' ')\n",
    "                        phone_l = []\n",
    "                        for syllable in syllable_l:\n",
    "                            phone_l.extend(syllable2phone_dict[syllable])\n",
    "                        syllable_nbr_l = ref_list_to_nbr(syllable_l, syllable_txt_list)\n",
    "                        phone_nbr_l = ref_dict_to_nbr(phone_l, phone2nbr_dict)\n",
    "                \n",
    "                #将数据添加至列表\n",
    "                names['X_list_%s' % speaker].append(x_data)\n",
    "                names['sen_list_%s' % speaker].append(sen)\n",
    "                names['syllable_list_%s' % speaker].append(syllable_nbr_l)\n",
    "                names['phone_list_%s' % speaker].append(phone_nbr_l)\n",
    "                names['speaker_list_%s' % speaker].append(speaker)\n",
    "    \n",
    "    #每个speaker保存为一个npz文件\n",
    "    for speaker in cfg.speaker_select_thchs30:\n",
    "        print(\"Saving speaker data:\", speaker)\n",
    "        save_npz(names['X_list_%s' % speaker], names['sen_list_%s' % speaker], names['syllable_list_%s' % speaker], \n",
    "            names['phone_list_%s' % speaker], names['speaker_list_%s' % speaker], speaker)\n",
    "\n",
    "print(\"Preprocess data done!\")"
   ]
  }
 ],
 "metadata": {
  "kernelspec": {
   "display_name": "Python 3",
   "language": "python",
   "name": "python3"
  },
  "language_info": {
   "codemirror_mode": {
    "name": "ipython",
    "version": 3
   },
   "file_extension": ".py",
   "mimetype": "text/x-python",
   "name": "python",
   "nbconvert_exporter": "python",
   "pygments_lexer": "ipython3",
   "version": "3.6.2"
  }
 },
 "nbformat": 4,
 "nbformat_minor": 4
}
